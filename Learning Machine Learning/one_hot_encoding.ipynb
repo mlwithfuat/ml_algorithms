{
 "cells": [
  {
   "cell_type": "code",
   "execution_count": 1,
   "id": "b4a92d74-c525-478b-b43e-3d44deb622ae",
   "metadata": {},
   "outputs": [],
   "source": [
    "class OneHotEncoder:\n",
    "    def __init__(self, ignore_unknown=False):\n",
    "        self.classes_ = None\n",
    "        self.ignore_unknown = ignore_unknown\n",
    "        \n",
    "    def fit(self, data):\n",
    "        \"\"\"Learn unique categories from data\"\"\"\n",
    "        self.classes_ = sorted(set(data))\n",
    "        return self\n",
    "    \n",
    "    def transform(self, data):\n",
    "        \"\"\"Convert categorical data to one-hot encoded vectors\"\"\"\n",
    "        if self.classes_ is None:\n",
    "            raise ValueError(\"Must fit encoder before transforming\")\n",
    "            \n",
    "        encoded = []\n",
    "        for item in data:\n",
    "            if item not in self.classes_:\n",
    "                if self.ignore_unknown:\n",
    "                    # Return all zeros for unknown categories\n",
    "                    encoded.append([0] * len(self.classes_))\n",
    "                    continue\n",
    "                else:\n",
    "                    raise ValueError(f\"Unknown category '{item}' encountered\")\n",
    "            \n",
    "            # Create vector with 1 at category index\n",
    "            vec = [0] * len(self.classes_)\n",
    "            vec[self.classes_.index(item)] = 1\n",
    "            encoded.append(vec)\n",
    "            \n",
    "        return encoded\n",
    "    \n",
    "    def fit_transform(self, data):\n",
    "        \"\"\"Fit and transform in one step\"\"\"\n",
    "        self.fit(data)\n",
    "        return self.transform(data)\n",
    "    \n",
    "    def inverse_transform(self, encoded_data):\n",
    "        \"\"\"Convert one-hot vectors back to categories\"\"\"\n",
    "        if self.classes_ is None:\n",
    "            raise ValueError(\"Must fit encoder before inverse transforming\")\n",
    "            \n",
    "        decoded = []\n",
    "        for vec in encoded_data:\n",
    "            # Find index of 1 in the vector\n",
    "            if sum(vec) != 1:\n",
    "                raise ValueError(\"Invalid one-hot encoded vector\")\n",
    "            index = vec.index(1)\n",
    "            decoded.append(self.classes_[index])\n",
    "            \n",
    "        return decoded"
   ]
  },
  {
   "cell_type": "code",
   "execution_count": 2,
   "id": "d4a3b59f-b7f6-4568-ab42-fb0ee3ad6a8c",
   "metadata": {},
   "outputs": [
    {
     "name": "stdout",
     "output_type": "stream",
     "text": [
      "Encoded:\n",
      "[1, 0, 0]\n",
      "[0, 1, 0]\n",
      "[0, 0, 1]\n",
      "[0, 1, 0]\n",
      "\n",
      "New data encoded:\n",
      "[[0, 1, 0], [1, 0, 0], [0, 0, 0]]\n",
      "\n",
      "Decoded: ['cat', 'dog', 'mouse']\n"
     ]
    }
   ],
   "source": [
    "encoder = OneHotEncoder(ignore_unknown=True)\n",
    "data = ['cat', 'dog', 'mouse', 'dog']\n",
    "\n",
    "# Fit and transform\n",
    "encoded = encoder.fit_transform(data)\n",
    "print(\"Encoded:\")\n",
    "for row in encoded:\n",
    "    print(row)\n",
    "\"\"\"\n",
    "Output:\n",
    "[1, 0, 0]  # cat\n",
    "[0, 1, 0]  # dog\n",
    "[0, 0, 1]  # mouse\n",
    "[0, 1, 0]  # dog\n",
    "\"\"\"\n",
    "\n",
    "# Transform new data with unknown category\n",
    "new_data = ['dog', 'cat', 'rabbit']\n",
    "print(\"\\nNew data encoded:\")\n",
    "print(encoder.transform(new_data))\n",
    "\"\"\"\n",
    "Output (with ignore_unknown=True):\n",
    "[[0, 1, 0], [1, 0, 0], [0, 0, 0]]\n",
    "\"\"\"\n",
    "\n",
    "# Inverse transform\n",
    "decoded = encoder.inverse_transform([[1, 0, 0], [0, 1, 0], [0, 0, 1]])\n",
    "print(\"\\nDecoded:\", decoded)  # Output: ['cat', 'dog', 'mouse']"
   ]
  },
  {
   "cell_type": "code",
   "execution_count": null,
   "id": "24143f0b-2711-40b6-9b39-7ab0face8c85",
   "metadata": {},
   "outputs": [],
   "source": []
  }
 ],
 "metadata": {
  "kernelspec": {
   "display_name": "Python 3 (ipykernel)",
   "language": "python",
   "name": "python3"
  },
  "language_info": {
   "codemirror_mode": {
    "name": "ipython",
    "version": 3
   },
   "file_extension": ".py",
   "mimetype": "text/x-python",
   "name": "python",
   "nbconvert_exporter": "python",
   "pygments_lexer": "ipython3",
   "version": "3.12.1"
  }
 },
 "nbformat": 4,
 "nbformat_minor": 5
}
