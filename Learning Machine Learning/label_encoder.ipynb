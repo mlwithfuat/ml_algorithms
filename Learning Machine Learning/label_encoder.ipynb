{
 "cells": [
  {
   "cell_type": "code",
   "execution_count": 1,
   "id": "6db43ba8-1978-464c-bd03-c6a90ed079d6",
   "metadata": {},
   "outputs": [],
   "source": [
    "class LabelEncoder:\n",
    "    def __init__(self):\n",
    "        self.classes_ = None\n",
    "        self._label_to_index = {}\n",
    "        \n",
    "    def fit(self, data):\n",
    "        \"\"\"Learn the mapping from unique labels to indices\"\"\"\n",
    "        # Get unique sorted classes\n",
    "        self.classes_ = sorted(set(data))\n",
    "        # Create mapping from label to index\n",
    "        self._label_to_index = {label: idx for idx, label in enumerate(self.classes_)}\n",
    "        return self\n",
    "    \n",
    "    def transform(self, data):\n",
    "        \"\"\"Convert labels to encoded indices\"\"\"\n",
    "        # Check if fit() was called first\n",
    "        if self.classes_ is None:\n",
    "            raise ValueError(\"LabelEncoder must be fitted before transforming data\")\n",
    "            \n",
    "        # Map each label to its index\n",
    "        encoded = []\n",
    "        for item in data:\n",
    "            if item not in self._label_to_index:\n",
    "                raise ValueError(f\"Unknown label '{item}' encountered during transform\")\n",
    "            encoded.append(self._label_to_index[item])\n",
    "        return encoded\n",
    "    \n",
    "    def fit_transform(self, data):\n",
    "        \"\"\"Fit and transform in one step\"\"\"\n",
    "        self.fit(data)\n",
    "        return self.transform(data)\n",
    "    \n",
    "    def inverse_transform(self, encoded_data):\n",
    "        \"\"\"Convert indices back to original labels\"\"\"\n",
    "        # Check if fit() was called first\n",
    "        if self.classes_ is None:\n",
    "            raise ValueError(\"LabelEncoder must be fitted before inverse transforming\")\n",
    "            \n",
    "        # Map indices to labels\n",
    "        return [self.classes_[idx] for idx in encoded_data]"
   ]
  },
  {
   "cell_type": "code",
   "execution_count": 2,
   "id": "e67f121e-4847-465b-8825-acf94dde33c3",
   "metadata": {},
   "outputs": [
    {
     "name": "stdout",
     "output_type": "stream",
     "text": [
      "Encoded: [1, 0, 2, 1, 0]\n",
      "[0, 1]\n",
      "Decoded: ['cat', 'dog', 'mouse']\n"
     ]
    }
   ],
   "source": [
    "# Example usage\n",
    "encoder = LabelEncoder()\n",
    "data = ['dog', 'cat', 'mouse', 'dog', 'cat']\n",
    "\n",
    "# Fit and transform\n",
    "encoded = encoder.fit_transform(data)\n",
    "print(\"Encoded:\", encoded)  # Output: [1, 0, 2, 1, 0]\n",
    "\n",
    "# Transform new data\n",
    "new_data = ['cat', 'dog']\n",
    "print(encoder.transform(new_data))  # Output: [0, 1]\n",
    "\n",
    "# Inverse transform\n",
    "decoded = encoder.inverse_transform([0, 1, 2])\n",
    "print(\"Decoded:\", decoded)  # Output: ['cat', 'dog', 'mouse']"
   ]
  },
  {
   "cell_type": "code",
   "execution_count": null,
   "id": "678700d6-f19c-404d-9c15-090b4339798d",
   "metadata": {},
   "outputs": [],
   "source": []
  }
 ],
 "metadata": {
  "kernelspec": {
   "display_name": "Python 3 (ipykernel)",
   "language": "python",
   "name": "python3"
  },
  "language_info": {
   "codemirror_mode": {
    "name": "ipython",
    "version": 3
   },
   "file_extension": ".py",
   "mimetype": "text/x-python",
   "name": "python",
   "nbconvert_exporter": "python",
   "pygments_lexer": "ipython3",
   "version": "3.12.1"
  }
 },
 "nbformat": 4,
 "nbformat_minor": 5
}
