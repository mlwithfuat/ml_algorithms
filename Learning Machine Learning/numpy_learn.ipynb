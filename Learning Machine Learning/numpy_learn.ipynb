{
 "cells": [
  {
   "cell_type": "code",
   "execution_count": 1,
   "id": "fcc04ee9-bc96-44a2-82d2-b3dbcc552e1b",
   "metadata": {},
   "outputs": [],
   "source": [
    "import numpy as np"
   ]
  },
  {
   "cell_type": "code",
   "execution_count": 2,
   "id": "78b7b096-949a-4714-980e-350588113e77",
   "metadata": {},
   "outputs": [],
   "source": [
    "array = np.array([5.7, 2.6, 3.5, 1.0])"
   ]
  },
  {
   "cell_type": "code",
   "execution_count": 3,
   "id": "e759e370-aa31-4c59-9e31-e23ba47abf29",
   "metadata": {},
   "outputs": [
    {
     "data": {
      "text/plain": [
       "array([5.7, 2.6, 3.5, 1. ])"
      ]
     },
     "execution_count": 3,
     "metadata": {},
     "output_type": "execute_result"
    }
   ],
   "source": [
    "array"
   ]
  },
  {
   "cell_type": "code",
   "execution_count": 4,
   "id": "a275972d-b18e-4092-8324-a90d0a1d1030",
   "metadata": {},
   "outputs": [
    {
     "data": {
      "text/plain": [
       "array([[[0., 0., 0.],\n",
       "        [0., 0., 0.],\n",
       "        [0., 0., 0.],\n",
       "        [0., 0., 0.]],\n",
       "\n",
       "       [[0., 0., 0.],\n",
       "        [0., 0., 0.],\n",
       "        [0., 0., 0.],\n",
       "        [0., 0., 0.]]])"
      ]
     },
     "execution_count": 4,
     "metadata": {},
     "output_type": "execute_result"
    }
   ],
   "source": [
    "np.zeros((2,4,3))"
   ]
  },
  {
   "cell_type": "code",
   "execution_count": 5,
   "id": "a2b6e01b-437b-4062-9fab-c330179a4f5a",
   "metadata": {},
   "outputs": [
    {
     "data": {
      "text/plain": [
       "array([1., 1., 1., 1.])"
      ]
     },
     "execution_count": 5,
     "metadata": {},
     "output_type": "execute_result"
    }
   ],
   "source": [
    "np.ones(4)"
   ]
  },
  {
   "cell_type": "code",
   "execution_count": 6,
   "id": "1f9d8fc9-3965-485d-b9d0-8c54409afdaa",
   "metadata": {},
   "outputs": [
    {
     "data": {
      "text/plain": [
       "array([['Numpy', 'Numpy'],\n",
       "       ['Numpy', 'Numpy']], dtype='<U5')"
      ]
     },
     "execution_count": 6,
     "metadata": {},
     "output_type": "execute_result"
    }
   ],
   "source": [
    "np.full((2,2), \"Numpy\")"
   ]
  },
  {
   "cell_type": "code",
   "execution_count": 7,
   "id": "e0d31d7f-9fec-48ad-b34c-db528f970135",
   "metadata": {},
   "outputs": [
    {
     "data": {
      "text/plain": [
       "array([0. , 0.2, 0.4, 0.6, 0.8])"
      ]
     },
     "execution_count": 7,
     "metadata": {},
     "output_type": "execute_result"
    }
   ],
   "source": [
    "np.arange(0,1, 0.2)"
   ]
  },
  {
   "cell_type": "code",
   "execution_count": 8,
   "id": "1ef468f9-eb6d-40c1-a564-efa0b5b4ce33",
   "metadata": {},
   "outputs": [
    {
     "data": {
      "text/plain": [
       "array([0.  , 0.25, 0.5 , 0.75, 1.  ])"
      ]
     },
     "execution_count": 8,
     "metadata": {},
     "output_type": "execute_result"
    }
   ],
   "source": [
    "np.linspace(0.0, 1.0, num=5)"
   ]
  },
  {
   "cell_type": "code",
   "execution_count": 9,
   "id": "88897264-69bb-4006-9e67-a33289846432",
   "metadata": {},
   "outputs": [
    {
     "data": {
      "text/plain": [
       "array([0. , 0.2, 0.4, 0.6, 0.8])"
      ]
     },
     "execution_count": 9,
     "metadata": {},
     "output_type": "execute_result"
    }
   ],
   "source": [
    "np.linspace(0.0,1.0, num=5, endpoint=False)"
   ]
  },
  {
   "cell_type": "code",
   "execution_count": 10,
   "id": "91bfc39d-8c73-4ab0-9609-19f45d46eace",
   "metadata": {},
   "outputs": [
    {
     "data": {
      "text/plain": [
       "array([[0.16586039, 0.08964644],\n",
       "       [0.16799821, 0.94304271]])"
      ]
     },
     "execution_count": 10,
     "metadata": {},
     "output_type": "execute_result"
    }
   ],
   "source": [
    "np.random.rand(2,2)"
   ]
  },
  {
   "cell_type": "code",
   "execution_count": 11,
   "id": "71475e14-f382-4fdd-b4cb-558697720533",
   "metadata": {},
   "outputs": [
    {
     "data": {
      "text/plain": [
       "array([[-0.05731365, -0.93614219],\n",
       "       [-0.19047292,  0.61555249]])"
      ]
     },
     "execution_count": 11,
     "metadata": {},
     "output_type": "execute_result"
    }
   ],
   "source": [
    "np.random.randn(2,2)"
   ]
  },
  {
   "cell_type": "code",
   "execution_count": 12,
   "id": "45ec8362-15bd-48a6-b007-a01735dd3855",
   "metadata": {},
   "outputs": [
    {
     "data": {
      "text/plain": [
       "array([[4, 4, 4, 3],\n",
       "       [3, 6, 5, 3]])"
      ]
     },
     "execution_count": 12,
     "metadata": {},
     "output_type": "execute_result"
    }
   ],
   "source": [
    "np.random.randint(3,7, size=(2,4))"
   ]
  },
  {
   "cell_type": "code",
   "execution_count": 13,
   "id": "a6bc8ae4-668c-42cb-8d1b-23dbc746ddd5",
   "metadata": {},
   "outputs": [
    {
     "name": "stdout",
     "output_type": "stream",
     "text": [
      "float64 [2. 3. 4. 5. 6. 7. 8.]\n"
     ]
    }
   ],
   "source": [
    "array = np.arange(2.0, 9.0)\n",
    "print(array.dtype, array)"
   ]
  },
  {
   "cell_type": "code",
   "execution_count": 14,
   "id": "a30ed5bb-a0d0-4aba-8395-f5281a25e257",
   "metadata": {},
   "outputs": [
    {
     "data": {
      "text/plain": [
       "8"
      ]
     },
     "execution_count": 14,
     "metadata": {},
     "output_type": "execute_result"
    }
   ],
   "source": [
    "array = np.arange(1, 3, dtype= np.int64)\n",
    "array.itemsize"
   ]
  },
  {
   "cell_type": "code",
   "execution_count": 15,
   "id": "dcd75f07-237a-4a27-bc48-05aa4a431d1c",
   "metadata": {},
   "outputs": [
    {
     "name": "stdout",
     "output_type": "stream",
     "text": [
      "[ 0  1  2  3  4  5  6  7  8  9 10 11 12 13 14 15]\n",
      "dimention of array: 1\n"
     ]
    }
   ],
   "source": [
    "array = np.arange(16)\n",
    "print(array)\n",
    "print(\"dimention of array:\", array.ndim)"
   ]
  },
  {
   "cell_type": "code",
   "execution_count": 16,
   "id": "43062c66-9145-4fdb-8b00-e2938173905c",
   "metadata": {},
   "outputs": [
    {
     "name": "stdout",
     "output_type": "stream",
     "text": [
      "[[ 0  1  2  3]\n",
      " [ 4  5  6  7]\n",
      " [ 8  9 10 11]\n",
      " [12 13 14 15]]\n",
      "dimention of array: 2\n"
     ]
    }
   ],
   "source": [
    "array.shape = (4,4)\n",
    "print(array)\n",
    "print(\"dimention of array:\", array.ndim)"
   ]
  },
  {
   "cell_type": "code",
   "execution_count": 17,
   "id": "ea0bbfa8-dd2a-4c5d-98f7-c59c054fb3c7",
   "metadata": {},
   "outputs": [
    {
     "data": {
      "text/plain": [
       "array([ 0,  1,  2,  3,  4,  5,  6,  7,  8,  9, 10, 11, 12, 13, 14, 15])"
      ]
     },
     "execution_count": 17,
     "metadata": {},
     "output_type": "execute_result"
    }
   ],
   "source": [
    "array.ravel()\n"
   ]
  },
  {
   "cell_type": "code",
   "execution_count": 18,
   "id": "8c71a836-8580-4283-98c3-1952c2aa2b90",
   "metadata": {},
   "outputs": [
    {
     "name": "stdout",
     "output_type": "stream",
     "text": [
      "addition =  [ 6  9 12 14]\n",
      "sub =  [2 3 4 4]\n",
      "mul =  [ 8 18 32 45]\n",
      "div (float)=  [2.  2.  2.  1.8]\n",
      "div (int) =  [2 2 2 1]\n",
      "square =  [   16   216  4096 59049]\n"
     ]
    }
   ],
   "source": [
    "array1 = np.array([4, 6, 8, 9])\n",
    "array2 = np.array([2, 3, 4, 5])\n",
    "print(\"addition = \", array1 + array2)\n",
    "print(\"sub = \",array1 - array2)\n",
    "print(\"mul = \",array1 * array2)\n",
    "print(\"div (float)= \",array1 / array2)\n",
    "print(\"div (int) = \",array1 // array2)\n",
    "print(\"square = \",array1 ** array2)\n"
   ]
  },
  {
   "cell_type": "code",
   "execution_count": 19,
   "id": "de13e52d-715a-426f-b530-de3e3673ca6d",
   "metadata": {},
   "outputs": [
    {
     "name": "stdout",
     "output_type": "stream",
     "text": [
      "min = 1.0\n",
      "max = 20.0\n",
      "sum = 48.5\n",
      "prod = 26400.0\n",
      "std = 6.274396828027022\n",
      "var = 39.36805555555556\n"
     ]
    }
   ],
   "source": [
    "array = np.array([[1, 2.5, 6],[8, 20, 11]])\n",
    "for i in (array.min,array.max, array.sum, array.prod, array.std, array.var):\n",
    "    print(i.__name__, \"=\", i())"
   ]
  },
  {
   "cell_type": "code",
   "execution_count": 20,
   "id": "c7d35ede-fd44-4bd1-8f68-584ec59ed166",
   "metadata": {},
   "outputs": [
    {
     "name": "stdout",
     "output_type": "stream",
     "text": [
      "\n",
      " absolute\n",
      "[[ 1.   2.5  6. ]\n",
      " [ 8.  20.  11. ]]\n",
      "\n",
      " sqrt\n",
      "[[1.         1.58113883 2.44948974]\n",
      " [2.82842712 4.47213595 3.31662479]]\n",
      "\n",
      " ceil\n",
      "[[ 1.  3.  6.]\n",
      " [ 8. 20. 11.]]\n",
      "\n",
      " isnan\n",
      "[[False False False]\n",
      " [False False False]]\n"
     ]
    }
   ],
   "source": [
    "for i in (np.abs, np.sqrt, np.ceil, np.isnan):\n",
    "    print(\"\\n\", i.__name__)\n",
    "    print(i(array))"
   ]
  },
  {
   "cell_type": "code",
   "execution_count": 21,
   "id": "774f13d4-a785-45c5-9169-efa16f4330ad",
   "metadata": {},
   "outputs": [],
   "source": [
    "array= np.array([5, 12, 4, -2, 15, 6, 8, 0])"
   ]
  },
  {
   "cell_type": "code",
   "execution_count": 22,
   "id": "a6ebb143-b3f6-4d8e-a985-ab31d423fff9",
   "metadata": {},
   "outputs": [
    {
     "data": {
      "text/plain": [
       "15"
      ]
     },
     "execution_count": 22,
     "metadata": {},
     "output_type": "execute_result"
    }
   ],
   "source": [
    "array[4]"
   ]
  },
  {
   "cell_type": "code",
   "execution_count": 23,
   "id": "7d29c282-1206-4977-b5ee-9eeb515f568e",
   "metadata": {},
   "outputs": [
    {
     "data": {
      "text/plain": [
       "array([12,  4, -2, 15])"
      ]
     },
     "execution_count": 23,
     "metadata": {},
     "output_type": "execute_result"
    }
   ],
   "source": [
    "array[1:5]"
   ]
  },
  {
   "cell_type": "code",
   "execution_count": 24,
   "id": "0d30dc80-b7f5-4f50-a995-cf21553aa807",
   "metadata": {},
   "outputs": [
    {
     "data": {
      "text/plain": [
       "array([-2, 15,  6,  8])"
      ]
     },
     "execution_count": 24,
     "metadata": {},
     "output_type": "execute_result"
    }
   ],
   "source": [
    "array[3:-1]"
   ]
  },
  {
   "cell_type": "code",
   "execution_count": 25,
   "id": "116fbb3a-85b0-4957-b077-b2457ae7ccf0",
   "metadata": {},
   "outputs": [
    {
     "data": {
      "text/plain": [
       "array([ 5, 12,  4, -2])"
      ]
     },
     "execution_count": 25,
     "metadata": {},
     "output_type": "execute_result"
    }
   ],
   "source": [
    "array[:4]"
   ]
  },
  {
   "cell_type": "code",
   "execution_count": 26,
   "id": "9d55eeae-d5a8-480f-9638-ea209683d58c",
   "metadata": {},
   "outputs": [
    {
     "data": {
      "text/plain": [
       "array([12, -2,  6,  0])"
      ]
     },
     "execution_count": 26,
     "metadata": {},
     "output_type": "execute_result"
    }
   ],
   "source": [
    "array[1::2]"
   ]
  },
  {
   "cell_type": "code",
   "execution_count": 27,
   "id": "73db1c95-6814-4b69-bdf6-45ed65a0867a",
   "metadata": {},
   "outputs": [
    {
     "data": {
      "text/plain": [
       "array([ 0,  8,  6, 15, -2,  4, 12,  5])"
      ]
     },
     "execution_count": 27,
     "metadata": {},
     "output_type": "execute_result"
    }
   ],
   "source": [
    "array[::-1]"
   ]
  },
  {
   "cell_type": "code",
   "execution_count": 28,
   "id": "1fcf5bdd-37c8-4413-b4f8-107761978512",
   "metadata": {},
   "outputs": [
    {
     "data": {
      "text/plain": [
       "array([ 5, 12, 11, 11, 15,  6,  8,  0])"
      ]
     },
     "execution_count": 28,
     "metadata": {},
     "output_type": "execute_result"
    }
   ],
   "source": [
    "array[2:4]=11\n",
    "array"
   ]
  },
  {
   "cell_type": "code",
   "execution_count": 29,
   "id": "1ad6fc37-0089-42b5-9c01-e5d15141bc8b",
   "metadata": {},
   "outputs": [],
   "source": [
    "array= np.array([5, 12, 4, -2, 15, 6, 8, 0])"
   ]
  },
  {
   "cell_type": "code",
   "execution_count": 30,
   "id": "918be719-9e9f-4ef9-a561-282ac06616c5",
   "metadata": {},
   "outputs": [
    {
     "data": {
      "text/plain": [
       "array([ 4, -2])"
      ]
     },
     "execution_count": 30,
     "metadata": {},
     "output_type": "execute_result"
    }
   ],
   "source": [
    "newArray = array[2:4]\n",
    "newArray"
   ]
  },
  {
   "cell_type": "code",
   "execution_count": 31,
   "id": "b3ba51f3-71b0-4bc1-9a55-3f03e716b2f9",
   "metadata": {},
   "outputs": [
    {
     "data": {
      "text/plain": [
       "array([200,  -2])"
      ]
     },
     "execution_count": 31,
     "metadata": {},
     "output_type": "execute_result"
    }
   ],
   "source": [
    "array[2]=200\n",
    "newArray"
   ]
  },
  {
   "cell_type": "code",
   "execution_count": 32,
   "id": "85947e7b-68ad-49b6-bf02-ae2b7cb2d979",
   "metadata": {},
   "outputs": [],
   "source": [
    "array= np.array([5, 12, 4, -2, 15, 6, 8, 0])"
   ]
  },
  {
   "cell_type": "code",
   "execution_count": 33,
   "id": "bc3e1413-59bb-4922-ab7b-b82abf8abb7f",
   "metadata": {},
   "outputs": [
    {
     "data": {
      "text/plain": [
       "array([ 4, -2])"
      ]
     },
     "execution_count": 33,
     "metadata": {},
     "output_type": "execute_result"
    }
   ],
   "source": [
    "newArray =array[2:4].copy()\n",
    "newArray"
   ]
  },
  {
   "cell_type": "code",
   "execution_count": 34,
   "id": "7653f949-f44f-49a7-ac8d-df0dccbdebda",
   "metadata": {},
   "outputs": [
    {
     "data": {
      "text/plain": [
       "array([ 4, -2])"
      ]
     },
     "execution_count": 34,
     "metadata": {},
     "output_type": "execute_result"
    }
   ],
   "source": [
    "array[2]=200\n",
    "newArray"
   ]
  },
  {
   "cell_type": "code",
   "execution_count": 35,
   "id": "663787b9-399b-45a4-b487-4ca69173a2e2",
   "metadata": {},
   "outputs": [
    {
     "data": {
      "text/plain": [
       "array([[ 0,  1,  2,  3],\n",
       "       [ 4,  5,  6,  7],\n",
       "       [ 8,  9, 10, 11]])"
      ]
     },
     "execution_count": 35,
     "metadata": {},
     "output_type": "execute_result"
    }
   ],
   "source": [
    "array = np.arange(12)\n",
    "array.shape=(3,4)\n",
    "array"
   ]
  },
  {
   "cell_type": "code",
   "execution_count": 36,
   "id": "187000b6-d40e-46e6-ab2b-fcfabbcacd02",
   "metadata": {},
   "outputs": [
    {
     "data": {
      "text/plain": [
       "11"
      ]
     },
     "execution_count": 36,
     "metadata": {},
     "output_type": "execute_result"
    }
   ],
   "source": [
    "array[2,3]"
   ]
  },
  {
   "cell_type": "code",
   "execution_count": 37,
   "id": "4f1ba677-2e0b-45f9-b2cb-37743bfdc31b",
   "metadata": {},
   "outputs": [
    {
     "data": {
      "text/plain": [
       "array([0, 1, 2, 3])"
      ]
     },
     "execution_count": 37,
     "metadata": {},
     "output_type": "execute_result"
    }
   ],
   "source": [
    "array[0,:]"
   ]
  },
  {
   "cell_type": "code",
   "execution_count": 38,
   "id": "ad2147e5-5751-4cca-82b1-756f98eed89d",
   "metadata": {},
   "outputs": [
    {
     "data": {
      "text/plain": [
       "array([ 2,  6, 10])"
      ]
     },
     "execution_count": 38,
     "metadata": {},
     "output_type": "execute_result"
    }
   ],
   "source": [
    "array[:,2]"
   ]
  },
  {
   "cell_type": "code",
   "execution_count": 39,
   "id": "8db30e7e-34e3-41eb-9c57-710dd61c4bcb",
   "metadata": {},
   "outputs": [
    {
     "data": {
      "text/plain": [
       "array([[ 0,  2],\n",
       "       [ 4,  6],\n",
       "       [ 8, 10]])"
      ]
     },
     "execution_count": 39,
     "metadata": {},
     "output_type": "execute_result"
    }
   ],
   "source": [
    "array[:, (0,2)]"
   ]
  },
  {
   "cell_type": "code",
   "execution_count": 40,
   "id": "e434fac9-4716-4dbc-ada4-b2bdb3960a2f",
   "metadata": {},
   "outputs": [
    {
     "data": {
      "text/plain": [
       "array([[1, 2],\n",
       "       [5, 6]])"
      ]
     },
     "execution_count": 40,
     "metadata": {},
     "output_type": "execute_result"
    }
   ],
   "source": [
    "array[(0,1),1:3]"
   ]
  },
  {
   "cell_type": "code",
   "execution_count": 41,
   "id": "a5d415a5-e11c-4388-b9c9-d957b62f2927",
   "metadata": {},
   "outputs": [
    {
     "data": {
      "text/plain": [
       "array([[[ 0,  1],\n",
       "        [ 2,  3]],\n",
       "\n",
       "       [[ 4,  5],\n",
       "        [ 6,  7]],\n",
       "\n",
       "       [[ 8,  9],\n",
       "        [10, 11]]])"
      ]
     },
     "execution_count": 41,
     "metadata": {},
     "output_type": "execute_result"
    }
   ],
   "source": [
    "array= np.arange(12)\n",
    "array.shape=(3,2,2)\n",
    "array"
   ]
  },
  {
   "cell_type": "code",
   "execution_count": 42,
   "id": "4573b716-a8bd-4ff5-9424-038874e88c10",
   "metadata": {},
   "outputs": [
    {
     "data": {
      "text/plain": [
       "6"
      ]
     },
     "execution_count": 42,
     "metadata": {},
     "output_type": "execute_result"
    }
   ],
   "source": [
    "array[1,1,0]"
   ]
  },
  {
   "cell_type": "code",
   "execution_count": 43,
   "id": "cc9eb9a2-e82a-490c-8bc7-deb82fa468f9",
   "metadata": {},
   "outputs": [
    {
     "data": {
      "text/plain": [
       "array([4, 6])"
      ]
     },
     "execution_count": 43,
     "metadata": {},
     "output_type": "execute_result"
    }
   ],
   "source": [
    "array[1, : ,0]"
   ]
  },
  {
   "cell_type": "code",
   "execution_count": 44,
   "id": "d33dc1c0-036f-4364-9a60-5d29631b092e",
   "metadata": {},
   "outputs": [
    {
     "name": "stdout",
     "output_type": "stream",
     "text": [
      "[[0. 0. 0. 0.]\n",
      " [0. 0. 0. 0.]]\n",
      "\n",
      " [[1. 1. 1. 1.]\n",
      " [1. 1. 1. 1.]\n",
      " [1. 1. 1. 1.]]\n",
      "\n",
      " [[2. 2. 2. 2.]\n",
      " [2. 2. 2. 2.]\n",
      " [2. 2. 2. 2.]\n",
      " [2. 2. 2. 2.]]\n"
     ]
    }
   ],
   "source": [
    "array1 = np.full((2,4), 0.0)\n",
    "array2 = np.full((3,4), 1.0)\n",
    "array3 = np.full((4,4), 2.0)\n",
    "print(array1)\n",
    "print(\"\\n\",array2)\n",
    "print(\"\\n\",array3)"
   ]
  },
  {
   "cell_type": "code",
   "execution_count": 45,
   "id": "80ab7b75-b9c6-48e8-9e51-93a2f2cb8977",
   "metadata": {},
   "outputs": [
    {
     "data": {
      "text/plain": [
       "array([[0., 0., 0., 0.],\n",
       "       [0., 0., 0., 0.],\n",
       "       [1., 1., 1., 1.],\n",
       "       [1., 1., 1., 1.],\n",
       "       [1., 1., 1., 1.],\n",
       "       [2., 2., 2., 2.],\n",
       "       [2., 2., 2., 2.],\n",
       "       [2., 2., 2., 2.],\n",
       "       [2., 2., 2., 2.]])"
      ]
     },
     "execution_count": 45,
     "metadata": {},
     "output_type": "execute_result"
    }
   ],
   "source": [
    "array4= np.concatenate((array1, array2, array3), axis= 0)\n",
    "array4"
   ]
  },
  {
   "cell_type": "code",
   "execution_count": 46,
   "id": "104d52cf-e4b6-40bd-81c3-04b2e14cbb71",
   "metadata": {},
   "outputs": [
    {
     "name": "stdout",
     "output_type": "stream",
     "text": [
      "[[0. 0. 0. 0.]\n",
      " [0. 0. 0. 0.]]\n",
      "\n",
      " [[1. 1. 1. 1.]\n",
      " [1. 1. 1. 1.]]\n"
     ]
    }
   ],
   "source": [
    "array1 = np.full((2,4), 0.0)\n",
    "array2 = np.full((2,4), 1.0)\n",
    "\n",
    "print(array1)\n",
    "print(\"\\n\",array2)\n"
   ]
  },
  {
   "cell_type": "code",
   "execution_count": 47,
   "id": "28f6d885-56e8-4d3c-87c2-a415278ac73f",
   "metadata": {},
   "outputs": [
    {
     "data": {
      "text/plain": [
       "array([[0., 0., 0., 0., 1., 1., 1., 1.],\n",
       "       [0., 0., 0., 0., 1., 1., 1., 1.]])"
      ]
     },
     "execution_count": 47,
     "metadata": {},
     "output_type": "execute_result"
    }
   ],
   "source": [
    "array4= np.concatenate((array1, array2), axis= 1)\n",
    "array4"
   ]
  },
  {
   "cell_type": "code",
   "execution_count": null,
   "id": "7587224c-91de-4c71-925a-5acc9941b136",
   "metadata": {},
   "outputs": [],
   "source": []
  }
 ],
 "metadata": {
  "kernelspec": {
   "display_name": "Python 3 (ipykernel)",
   "language": "python",
   "name": "python3"
  },
  "language_info": {
   "codemirror_mode": {
    "name": "ipython",
    "version": 3
   },
   "file_extension": ".py",
   "mimetype": "text/x-python",
   "name": "python",
   "nbconvert_exporter": "python",
   "pygments_lexer": "ipython3",
   "version": "3.12.1"
  }
 },
 "nbformat": 4,
 "nbformat_minor": 5
}
